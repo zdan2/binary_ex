{
 "cells": [
  {
   "cell_type": "code",
   "execution_count": 2,
   "id": "a16fad5e",
   "metadata": {},
   "outputs": [
    {
     "name": "stdout",
     "output_type": "stream",
     "text": [
      "A 0b1101\n",
      "B 0b1010\n",
      "15\n",
      "0b1111\n",
      "8\n",
      "0b1000\n",
      "7\n",
      "0b111\n"
     ]
    }
   ],
   "source": [
    "A=13\n",
    "B=10\n",
    "print('A',bin(A))\n",
    "print('B',bin(B))\n",
    "print(A|B)\n",
    "print(bin(A|B))\n",
    "print(A&B)\n",
    "print(bin(A&B))\n",
    "print(A^B)\n",
    "print(bin(A^B))"
   ]
  },
  {
   "cell_type": "code",
   "execution_count": 5,
   "id": "8de478b8",
   "metadata": {},
   "outputs": [
    {
     "name": "stdout",
     "output_type": "stream",
     "text": [
      "26\n",
      "52\n",
      "6\n",
      "3\n"
     ]
    }
   ],
   "source": [
    "print(A<<1)\n",
    "print(A<<2)\n",
    "print(A>>1)\n",
    "print(A>>2)"
   ]
  },
  {
   "cell_type": "code",
   "execution_count": 28,
   "id": "aeaba130",
   "metadata": {},
   "outputs": [
    {
     "name": "stdout",
     "output_type": "stream",
     "text": [
      "10 0b1010\n",
      "0b1010\n"
     ]
    }
   ],
   "source": [
    "A=10\n",
    "K=2\n",
    "print(A,bin(A))\n",
    "print(bin(A&~(1<<K)))"
   ]
  },
  {
   "cell_type": "code",
   "execution_count": 32,
   "id": "c55bb1ca",
   "metadata": {},
   "outputs": [
    {
     "name": "stdout",
     "output_type": "stream",
     "text": [
      "0b100000110100 4\n"
     ]
    }
   ],
   "source": [
    "N=2100\n",
    "c=0\n",
    "for i in range(N.bit_length()):\n",
    "    if N&(1<<i):\n",
    "        c+=1\n",
    "print(bin(N),c)"
   ]
  },
  {
   "cell_type": "code",
   "execution_count": 41,
   "id": "23db36de",
   "metadata": {},
   "outputs": [
    {
     "name": "stdout",
     "output_type": "stream",
     "text": [
      "0b100000110100 4\n"
     ]
    }
   ],
   "source": [
    "n=2100\n",
    "c=0\n",
    "i=0\n",
    "while n>>i>0:\n",
    "    if (n>>i)&1:\n",
    "        c+=1\n",
    "    i+=1\n",
    "print(bin(N),c)\n",
    "    "
   ]
  },
  {
   "cell_type": "code",
   "execution_count": 43,
   "id": "d50de159",
   "metadata": {},
   "outputs": [
    {
     "name": "stdout",
     "output_type": "stream",
     "text": [
      "True\n",
      "False\n"
     ]
    }
   ],
   "source": [
    "def f(i):\n",
    "    if not i&(i-1):\n",
    "        return True\n",
    "    return False\n",
    "print(f(16))\n",
    "print(f(15))"
   ]
  },
  {
   "cell_type": "code",
   "execution_count": 46,
   "id": "1055f4d6",
   "metadata": {},
   "outputs": [
    {
     "name": "stdout",
     "output_type": "stream",
     "text": [
      "5\n"
     ]
    }
   ],
   "source": [
    "A=[1,2,3,4,5,4,3,2,1]\n",
    "a=A[0]\n",
    "for i in range(1,len(A)):\n",
    "    a^=A[i]\n",
    "print(a)"
   ]
  }
 ],
 "metadata": {
  "kernelspec": {
   "display_name": "venv",
   "language": "python",
   "name": "python3"
  },
  "language_info": {
   "codemirror_mode": {
    "name": "ipython",
    "version": 3
   },
   "file_extension": ".py",
   "mimetype": "text/x-python",
   "name": "python",
   "nbconvert_exporter": "python",
   "pygments_lexer": "ipython3",
   "version": "3.12.1"
  }
 },
 "nbformat": 4,
 "nbformat_minor": 5
}
